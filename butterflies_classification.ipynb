{
  "nbformat": 4,
  "nbformat_minor": 0,
  "metadata": {
    "colab": {
      "provenance": [],
      "gpuType": "T4",
      "authorship_tag": "ABX9TyOedgkeXdl1dmaA8TGe3hI/",
      "include_colab_link": true
    },
    "kernelspec": {
      "name": "python3",
      "display_name": "Python 3"
    },
    "language_info": {
      "name": "python"
    },
    "accelerator": "GPU"
  },
  "cells": [
    {
      "cell_type": "markdown",
      "metadata": {
        "id": "view-in-github",
        "colab_type": "text"
      },
      "source": [
        "<a href=\"https://colab.research.google.com/github/mohamed46941/butterflies-classification/blob/main/butterflies_classification.ipynb\" target=\"_parent\"><img src=\"https://colab.research.google.com/assets/colab-badge.svg\" alt=\"Open In Colab\"/></a>"
      ]
    },
    {
      "cell_type": "code",
      "execution_count": null,
      "metadata": {
        "colab": {
          "base_uri": "https://localhost:8080/"
        },
        "id": "_7rH7GGef0Th",
        "outputId": "8f202d00-838e-4612-e6ba-6a7cbadf12ec"
      },
      "outputs": [
        {
          "output_type": "stream",
          "name": "stdout",
          "text": [
            "Path to dataset files: /kaggle/input/butterfly-image-classification\n"
          ]
        }
      ],
      "source": [
        "import kagglehub\n",
        "\n",
        "# Download latest version\n",
        "path = kagglehub.dataset_download(\"phucthaiv02/butterfly-image-classification\")\n",
        "\n",
        "print(\"Path to dataset files:\", path)"
      ]
    },
    {
      "cell_type": "code",
      "source": [
        "import warnings\n",
        "warnings.filterwarnings(\"ignore\", category=UserWarning)\n"
      ],
      "metadata": {
        "id": "JObugjdmjO14"
      },
      "execution_count": null,
      "outputs": []
    },
    {
      "cell_type": "code",
      "source": [
        "import os\n",
        "import pandas as pd"
      ],
      "metadata": {
        "id": "hZFRIsb5hGqH"
      },
      "execution_count": null,
      "outputs": []
    },
    {
      "cell_type": "code",
      "source": [
        "os.listdir(path)"
      ],
      "metadata": {
        "colab": {
          "base_uri": "https://localhost:8080/"
        },
        "id": "B_u-UAIQhTtp",
        "outputId": "c32327fd-d481-495f-c8fc-875d908bd7f2"
      },
      "execution_count": null,
      "outputs": [
        {
          "output_type": "execute_result",
          "data": {
            "text/plain": [
              "['Training_set.csv', 'Testing_set.csv', 'test', 'train']"
            ]
          },
          "metadata": {},
          "execution_count": 4
        }
      ]
    },
    {
      "cell_type": "code",
      "source": [
        "train_dir=path+'/train'\n",
        "test_dir=path+'/test'"
      ],
      "metadata": {
        "id": "1M4gPP0K36Ev"
      },
      "execution_count": null,
      "outputs": []
    },
    {
      "cell_type": "code",
      "source": [
        "train_df=pd.read_csv(path+'/Training_set.csv')\n",
        "test_df=pd.read_csv(path+'/Testing_set.csv')"
      ],
      "metadata": {
        "id": "gLuNbmplhUzu"
      },
      "execution_count": null,
      "outputs": []
    },
    {
      "cell_type": "code",
      "source": [
        "train_df.head()"
      ],
      "metadata": {
        "colab": {
          "base_uri": "https://localhost:8080/",
          "height": 206
        },
        "id": "ps9i781khkvC",
        "outputId": "6b8bf2de-8392-4af1-d52c-3e910cca2531"
      },
      "execution_count": null,
      "outputs": [
        {
          "output_type": "execute_result",
          "data": {
            "text/plain": [
              "      filename                     label\n",
              "0  Image_1.jpg          SOUTHERN DOGFACE\n",
              "1  Image_2.jpg                    ADONIS\n",
              "2  Image_3.jpg            BROWN SIPROETA\n",
              "3  Image_4.jpg                   MONARCH\n",
              "4  Image_5.jpg  GREEN CELLED CATTLEHEART"
            ],
            "text/html": [
              "\n",
              "  <div id=\"df-f1a9e887-95de-4c4b-b41b-1d312aa17854\" class=\"colab-df-container\">\n",
              "    <div>\n",
              "<style scoped>\n",
              "    .dataframe tbody tr th:only-of-type {\n",
              "        vertical-align: middle;\n",
              "    }\n",
              "\n",
              "    .dataframe tbody tr th {\n",
              "        vertical-align: top;\n",
              "    }\n",
              "\n",
              "    .dataframe thead th {\n",
              "        text-align: right;\n",
              "    }\n",
              "</style>\n",
              "<table border=\"1\" class=\"dataframe\">\n",
              "  <thead>\n",
              "    <tr style=\"text-align: right;\">\n",
              "      <th></th>\n",
              "      <th>filename</th>\n",
              "      <th>label</th>\n",
              "    </tr>\n",
              "  </thead>\n",
              "  <tbody>\n",
              "    <tr>\n",
              "      <th>0</th>\n",
              "      <td>Image_1.jpg</td>\n",
              "      <td>SOUTHERN DOGFACE</td>\n",
              "    </tr>\n",
              "    <tr>\n",
              "      <th>1</th>\n",
              "      <td>Image_2.jpg</td>\n",
              "      <td>ADONIS</td>\n",
              "    </tr>\n",
              "    <tr>\n",
              "      <th>2</th>\n",
              "      <td>Image_3.jpg</td>\n",
              "      <td>BROWN SIPROETA</td>\n",
              "    </tr>\n",
              "    <tr>\n",
              "      <th>3</th>\n",
              "      <td>Image_4.jpg</td>\n",
              "      <td>MONARCH</td>\n",
              "    </tr>\n",
              "    <tr>\n",
              "      <th>4</th>\n",
              "      <td>Image_5.jpg</td>\n",
              "      <td>GREEN CELLED CATTLEHEART</td>\n",
              "    </tr>\n",
              "  </tbody>\n",
              "</table>\n",
              "</div>\n",
              "    <div class=\"colab-df-buttons\">\n",
              "\n",
              "  <div class=\"colab-df-container\">\n",
              "    <button class=\"colab-df-convert\" onclick=\"convertToInteractive('df-f1a9e887-95de-4c4b-b41b-1d312aa17854')\"\n",
              "            title=\"Convert this dataframe to an interactive table.\"\n",
              "            style=\"display:none;\">\n",
              "\n",
              "  <svg xmlns=\"http://www.w3.org/2000/svg\" height=\"24px\" viewBox=\"0 -960 960 960\">\n",
              "    <path d=\"M120-120v-720h720v720H120Zm60-500h600v-160H180v160Zm220 220h160v-160H400v160Zm0 220h160v-160H400v160ZM180-400h160v-160H180v160Zm440 0h160v-160H620v160ZM180-180h160v-160H180v160Zm440 0h160v-160H620v160Z\"/>\n",
              "  </svg>\n",
              "    </button>\n",
              "\n",
              "  <style>\n",
              "    .colab-df-container {\n",
              "      display:flex;\n",
              "      gap: 12px;\n",
              "    }\n",
              "\n",
              "    .colab-df-convert {\n",
              "      background-color: #E8F0FE;\n",
              "      border: none;\n",
              "      border-radius: 50%;\n",
              "      cursor: pointer;\n",
              "      display: none;\n",
              "      fill: #1967D2;\n",
              "      height: 32px;\n",
              "      padding: 0 0 0 0;\n",
              "      width: 32px;\n",
              "    }\n",
              "\n",
              "    .colab-df-convert:hover {\n",
              "      background-color: #E2EBFA;\n",
              "      box-shadow: 0px 1px 2px rgba(60, 64, 67, 0.3), 0px 1px 3px 1px rgba(60, 64, 67, 0.15);\n",
              "      fill: #174EA6;\n",
              "    }\n",
              "\n",
              "    .colab-df-buttons div {\n",
              "      margin-bottom: 4px;\n",
              "    }\n",
              "\n",
              "    [theme=dark] .colab-df-convert {\n",
              "      background-color: #3B4455;\n",
              "      fill: #D2E3FC;\n",
              "    }\n",
              "\n",
              "    [theme=dark] .colab-df-convert:hover {\n",
              "      background-color: #434B5C;\n",
              "      box-shadow: 0px 1px 3px 1px rgba(0, 0, 0, 0.15);\n",
              "      filter: drop-shadow(0px 1px 2px rgba(0, 0, 0, 0.3));\n",
              "      fill: #FFFFFF;\n",
              "    }\n",
              "  </style>\n",
              "\n",
              "    <script>\n",
              "      const buttonEl =\n",
              "        document.querySelector('#df-f1a9e887-95de-4c4b-b41b-1d312aa17854 button.colab-df-convert');\n",
              "      buttonEl.style.display =\n",
              "        google.colab.kernel.accessAllowed ? 'block' : 'none';\n",
              "\n",
              "      async function convertToInteractive(key) {\n",
              "        const element = document.querySelector('#df-f1a9e887-95de-4c4b-b41b-1d312aa17854');\n",
              "        const dataTable =\n",
              "          await google.colab.kernel.invokeFunction('convertToInteractive',\n",
              "                                                    [key], {});\n",
              "        if (!dataTable) return;\n",
              "\n",
              "        const docLinkHtml = 'Like what you see? Visit the ' +\n",
              "          '<a target=\"_blank\" href=https://colab.research.google.com/notebooks/data_table.ipynb>data table notebook</a>'\n",
              "          + ' to learn more about interactive tables.';\n",
              "        element.innerHTML = '';\n",
              "        dataTable['output_type'] = 'display_data';\n",
              "        await google.colab.output.renderOutput(dataTable, element);\n",
              "        const docLink = document.createElement('div');\n",
              "        docLink.innerHTML = docLinkHtml;\n",
              "        element.appendChild(docLink);\n",
              "      }\n",
              "    </script>\n",
              "  </div>\n",
              "\n",
              "\n",
              "    <div id=\"df-e70494bb-d99d-413a-bc59-f03fdc72ba58\">\n",
              "      <button class=\"colab-df-quickchart\" onclick=\"quickchart('df-e70494bb-d99d-413a-bc59-f03fdc72ba58')\"\n",
              "                title=\"Suggest charts\"\n",
              "                style=\"display:none;\">\n",
              "\n",
              "<svg xmlns=\"http://www.w3.org/2000/svg\" height=\"24px\"viewBox=\"0 0 24 24\"\n",
              "     width=\"24px\">\n",
              "    <g>\n",
              "        <path d=\"M19 3H5c-1.1 0-2 .9-2 2v14c0 1.1.9 2 2 2h14c1.1 0 2-.9 2-2V5c0-1.1-.9-2-2-2zM9 17H7v-7h2v7zm4 0h-2V7h2v10zm4 0h-2v-4h2v4z\"/>\n",
              "    </g>\n",
              "</svg>\n",
              "      </button>\n",
              "\n",
              "<style>\n",
              "  .colab-df-quickchart {\n",
              "      --bg-color: #E8F0FE;\n",
              "      --fill-color: #1967D2;\n",
              "      --hover-bg-color: #E2EBFA;\n",
              "      --hover-fill-color: #174EA6;\n",
              "      --disabled-fill-color: #AAA;\n",
              "      --disabled-bg-color: #DDD;\n",
              "  }\n",
              "\n",
              "  [theme=dark] .colab-df-quickchart {\n",
              "      --bg-color: #3B4455;\n",
              "      --fill-color: #D2E3FC;\n",
              "      --hover-bg-color: #434B5C;\n",
              "      --hover-fill-color: #FFFFFF;\n",
              "      --disabled-bg-color: #3B4455;\n",
              "      --disabled-fill-color: #666;\n",
              "  }\n",
              "\n",
              "  .colab-df-quickchart {\n",
              "    background-color: var(--bg-color);\n",
              "    border: none;\n",
              "    border-radius: 50%;\n",
              "    cursor: pointer;\n",
              "    display: none;\n",
              "    fill: var(--fill-color);\n",
              "    height: 32px;\n",
              "    padding: 0;\n",
              "    width: 32px;\n",
              "  }\n",
              "\n",
              "  .colab-df-quickchart:hover {\n",
              "    background-color: var(--hover-bg-color);\n",
              "    box-shadow: 0 1px 2px rgba(60, 64, 67, 0.3), 0 1px 3px 1px rgba(60, 64, 67, 0.15);\n",
              "    fill: var(--button-hover-fill-color);\n",
              "  }\n",
              "\n",
              "  .colab-df-quickchart-complete:disabled,\n",
              "  .colab-df-quickchart-complete:disabled:hover {\n",
              "    background-color: var(--disabled-bg-color);\n",
              "    fill: var(--disabled-fill-color);\n",
              "    box-shadow: none;\n",
              "  }\n",
              "\n",
              "  .colab-df-spinner {\n",
              "    border: 2px solid var(--fill-color);\n",
              "    border-color: transparent;\n",
              "    border-bottom-color: var(--fill-color);\n",
              "    animation:\n",
              "      spin 1s steps(1) infinite;\n",
              "  }\n",
              "\n",
              "  @keyframes spin {\n",
              "    0% {\n",
              "      border-color: transparent;\n",
              "      border-bottom-color: var(--fill-color);\n",
              "      border-left-color: var(--fill-color);\n",
              "    }\n",
              "    20% {\n",
              "      border-color: transparent;\n",
              "      border-left-color: var(--fill-color);\n",
              "      border-top-color: var(--fill-color);\n",
              "    }\n",
              "    30% {\n",
              "      border-color: transparent;\n",
              "      border-left-color: var(--fill-color);\n",
              "      border-top-color: var(--fill-color);\n",
              "      border-right-color: var(--fill-color);\n",
              "    }\n",
              "    40% {\n",
              "      border-color: transparent;\n",
              "      border-right-color: var(--fill-color);\n",
              "      border-top-color: var(--fill-color);\n",
              "    }\n",
              "    60% {\n",
              "      border-color: transparent;\n",
              "      border-right-color: var(--fill-color);\n",
              "    }\n",
              "    80% {\n",
              "      border-color: transparent;\n",
              "      border-right-color: var(--fill-color);\n",
              "      border-bottom-color: var(--fill-color);\n",
              "    }\n",
              "    90% {\n",
              "      border-color: transparent;\n",
              "      border-bottom-color: var(--fill-color);\n",
              "    }\n",
              "  }\n",
              "</style>\n",
              "\n",
              "      <script>\n",
              "        async function quickchart(key) {\n",
              "          const quickchartButtonEl =\n",
              "            document.querySelector('#' + key + ' button');\n",
              "          quickchartButtonEl.disabled = true;  // To prevent multiple clicks.\n",
              "          quickchartButtonEl.classList.add('colab-df-spinner');\n",
              "          try {\n",
              "            const charts = await google.colab.kernel.invokeFunction(\n",
              "                'suggestCharts', [key], {});\n",
              "          } catch (error) {\n",
              "            console.error('Error during call to suggestCharts:', error);\n",
              "          }\n",
              "          quickchartButtonEl.classList.remove('colab-df-spinner');\n",
              "          quickchartButtonEl.classList.add('colab-df-quickchart-complete');\n",
              "        }\n",
              "        (() => {\n",
              "          let quickchartButtonEl =\n",
              "            document.querySelector('#df-e70494bb-d99d-413a-bc59-f03fdc72ba58 button');\n",
              "          quickchartButtonEl.style.display =\n",
              "            google.colab.kernel.accessAllowed ? 'block' : 'none';\n",
              "        })();\n",
              "      </script>\n",
              "    </div>\n",
              "\n",
              "    </div>\n",
              "  </div>\n"
            ],
            "application/vnd.google.colaboratory.intrinsic+json": {
              "type": "dataframe",
              "variable_name": "train_df",
              "summary": "{\n  \"name\": \"train_df\",\n  \"rows\": 6499,\n  \"fields\": [\n    {\n      \"column\": \"filename\",\n      \"properties\": {\n        \"dtype\": \"string\",\n        \"num_unique_values\": 6499,\n        \"samples\": [\n          \"Image_5573.jpg\",\n          \"Image_1704.jpg\",\n          \"Image_5863.jpg\"\n        ],\n        \"semantic_type\": \"\",\n        \"description\": \"\"\n      }\n    },\n    {\n      \"column\": \"label\",\n      \"properties\": {\n        \"dtype\": \"category\",\n        \"num_unique_values\": 75,\n        \"samples\": [\n          \"GREEN CELLED CATTLEHEART\",\n          \"ZEBRA LONG WING\",\n          \"CABBAGE WHITE\"\n        ],\n        \"semantic_type\": \"\",\n        \"description\": \"\"\n      }\n    }\n  ]\n}"
            }
          },
          "metadata": {},
          "execution_count": 7
        }
      ]
    },
    {
      "cell_type": "code",
      "source": [
        "train_df.label.nunique()"
      ],
      "metadata": {
        "colab": {
          "base_uri": "https://localhost:8080/"
        },
        "id": "2ZBW8dUViF0i",
        "outputId": "2dc476da-ffd8-4589-cec6-41b96f42c67a"
      },
      "execution_count": null,
      "outputs": [
        {
          "output_type": "execute_result",
          "data": {
            "text/plain": [
              "75"
            ]
          },
          "metadata": {},
          "execution_count": 8
        }
      ]
    },
    {
      "cell_type": "code",
      "source": [
        "import cv2\n",
        "import numpy as np\n",
        "from tqdm import tqdm"
      ],
      "metadata": {
        "id": "IRFlBBWgkJdD"
      },
      "execution_count": null,
      "outputs": []
    },
    {
      "cell_type": "code",
      "source": [
        "labels=[]\n",
        "imgs=[]\n",
        "for x, y in tqdm(zip(train_df['filename'], train_df['label'])):\n",
        "     img=cv2.imread(os.path.join(path+'/train',x))\n",
        "     img=cv2.cvtColor(img,cv2.COLOR_BGR2RGB)\n",
        "     img=cv2.resize(img,(100,100))\n",
        "     imgs.append(img)\n",
        "     labels.append(y)\n",
        "imgs=np.array(imgs)\n",
        "labels=np.array(labels)"
      ],
      "metadata": {
        "colab": {
          "base_uri": "https://localhost:8080/"
        },
        "id": "rQVdQm96i5NC",
        "outputId": "0b90b583-8581-44b1-d858-80e9d1ff7ebb"
      },
      "execution_count": null,
      "outputs": [
        {
          "output_type": "stream",
          "name": "stderr",
          "text": [
            "6499it [01:02, 103.75it/s]\n"
          ]
        }
      ]
    },
    {
      "cell_type": "code",
      "source": [
        "imgs_test=[]\n",
        "for x in tqdm(test_df['filename']):\n",
        "     img=cv2.imread(os.path.join(path+'/test',x))\n",
        "     img=cv2.cvtColor(img,cv2.COLOR_BGR2RGB)\n",
        "     img=cv2.resize(img,(100,100))\n",
        "     imgs_test.append(img)\n",
        "img_tests=np.array(imgs_test)"
      ],
      "metadata": {
        "colab": {
          "base_uri": "https://localhost:8080/"
        },
        "id": "w30dO7NAA5Gg",
        "outputId": "e37cea57-5f5f-4cc3-f6a5-fffe382837ed"
      },
      "execution_count": null,
      "outputs": [
        {
          "output_type": "stream",
          "name": "stderr",
          "text": [
            "100%|██████████| 2786/2786 [00:26<00:00, 107.03it/s]\n"
          ]
        }
      ]
    },
    {
      "cell_type": "code",
      "source": [
        "import tensorflow as tf"
      ],
      "metadata": {
        "id": "Ki9iYFbaklNb"
      },
      "execution_count": null,
      "outputs": []
    },
    {
      "cell_type": "code",
      "source": [
        "from sklearn.preprocessing import LabelEncoder\n",
        "from tensorflow.keras.utils import to_categorical"
      ],
      "metadata": {
        "id": "SBIrvssUnIpq"
      },
      "execution_count": null,
      "outputs": []
    },
    {
      "cell_type": "code",
      "source": [
        "le = LabelEncoder()\n",
        "labels_int = le.fit_transform(labels)"
      ],
      "metadata": {
        "id": "K_LsfywEnBJQ"
      },
      "execution_count": null,
      "outputs": []
    },
    {
      "cell_type": "code",
      "source": [
        "import keras\n",
        "from tensorflow.keras.preprocessing.image import ImageDataGenerator\n",
        "from sklearn.model_selection import train_test_split"
      ],
      "metadata": {
        "id": "WizQq1SBnS4S"
      },
      "execution_count": null,
      "outputs": []
    },
    {
      "cell_type": "code",
      "source": [
        "x_train, x_temp, y_train, y_temp = train_test_split(\n",
        "    imgs, labels_int,\n",
        "    test_size=0.2,\n",
        "    random_state=42,\n",
        "    stratify=labels_int\n",
        ")\n",
        "x_val, x_test, y_val, y_test = train_test_split(\n",
        "    x_temp, y_temp,\n",
        "    test_size=0.5,\n",
        "    random_state=42)"
      ],
      "metadata": {
        "id": "HVKil07h5U_l"
      },
      "execution_count": null,
      "outputs": []
    },
    {
      "cell_type": "code",
      "source": [
        "train_datagen = ImageDataGenerator(\n",
        "    rescale=1./255,\n",
        "    rotation_range=25,\n",
        "    width_shift_range=0.15,\n",
        "    height_shift_range=0.15,\n",
        "    shear_range=0.2,\n",
        "    zoom_range=0.2,\n",
        "    horizontal_flip=True,\n",
        "    brightness_range=[0.8, 1.2]\n",
        ")\n",
        "val_test_datagen = ImageDataGenerator(rescale=1./255)\n",
        "\n"
      ],
      "metadata": {
        "id": "wfxt7zSk2sNE"
      },
      "execution_count": null,
      "outputs": []
    },
    {
      "cell_type": "code",
      "source": [
        "train_generator = train_datagen.flow(\n",
        "    x_train, y_train,\n",
        "    batch_size=32,\n",
        "    shuffle=True\n",
        ")\n",
        "val_generator = val_test_datagen.flow(\n",
        "    x_val, y_val,\n",
        "    batch_size=32,\n",
        "    shuffle=False\n",
        ")\n",
        "test_generator = val_test_datagen.flow(\n",
        "    x_test, y_test,\n",
        "    batch_size=32,\n",
        "    shuffle=False\n",
        ")"
      ],
      "metadata": {
        "id": "SpQ-9KxW3k6-"
      },
      "execution_count": null,
      "outputs": []
    },
    {
      "cell_type": "code",
      "source": [
        "from sklearn.utils.class_weight import compute_class_weight\n",
        "import numpy as np\n",
        "classes = np.unique(y_train)\n",
        "cw = compute_class_weight('balanced', classes=classes, y=y_train)\n",
        "class_weight = dict(zip(classes, cw))"
      ],
      "metadata": {
        "id": "ddg4sR2xSQkT"
      },
      "execution_count": null,
      "outputs": []
    },
    {
      "cell_type": "code",
      "source": [
        "model=keras.models.Sequential([\n",
        "    keras.applications.DenseNet121(input_shape=(100,100,3),include_top=False, weights='imagenet'),\n",
        "    keras.layers.GlobalAveragePooling2D(),\n",
        "    keras.layers.Dense(512,activation='relu'),\n",
        "    keras.layers.BatchNormalization(),\n",
        "    keras.layers.Dense(128, activation='relu'),\n",
        "    keras.layers.BatchNormalization(),\n",
        "    keras.layers.Dropout(0.25),\n",
        "    keras.layers.Dense(75,activation='softmax')\n",
        "])"
      ],
      "metadata": {
        "id": "6nL6bXaa_4Nm",
        "colab": {
          "base_uri": "https://localhost:8080/"
        },
        "outputId": "1a52a9dd-bc87-4c26-cc1d-aec486a9789c"
      },
      "execution_count": null,
      "outputs": [
        {
          "output_type": "stream",
          "name": "stdout",
          "text": [
            "Downloading data from https://storage.googleapis.com/tensorflow/keras-applications/densenet/densenet121_weights_tf_dim_ordering_tf_kernels_notop.h5\n",
            "\u001b[1m29084464/29084464\u001b[0m \u001b[32m━━━━━━━━━━━━━━━━━━━━\u001b[0m\u001b[37m\u001b[0m \u001b[1m0s\u001b[0m 0us/step\n"
          ]
        }
      ]
    },
    {
      "cell_type": "code",
      "source": [
        "model.layers[0].trainable = True\n",
        "for layer in model.layers[0].layers[:300]:\n",
        "    layer.trainable = False"
      ],
      "metadata": {
        "id": "sj-raqrEIEoH"
      },
      "execution_count": null,
      "outputs": []
    },
    {
      "cell_type": "code",
      "source": [
        "optimizer = keras.optimizers.Adam(learning_rate=1e-5)\n",
        "model.compile(optimizer=optimizer, loss='sparse_categorical_crossentropy', metrics=['accuracy'])"
      ],
      "metadata": {
        "id": "VX54QinTAq7S"
      },
      "execution_count": null,
      "outputs": []
    },
    {
      "cell_type": "code",
      "source": [
        "model.summary()"
      ],
      "metadata": {
        "colab": {
          "base_uri": "https://localhost:8080/",
          "height": 459
        },
        "id": "ulCsdIClfqTS",
        "outputId": "8e5be268-2375-48fa-f025-da92d38b3bae"
      },
      "execution_count": null,
      "outputs": [
        {
          "output_type": "display_data",
          "data": {
            "text/plain": [
              "\u001b[1mModel: \"sequential\"\u001b[0m\n"
            ],
            "text/html": [
              "<pre style=\"white-space:pre;overflow-x:auto;line-height:normal;font-family:Menlo,'DejaVu Sans Mono',consolas,'Courier New',monospace\"><span style=\"font-weight: bold\">Model: \"sequential\"</span>\n",
              "</pre>\n"
            ]
          },
          "metadata": {}
        },
        {
          "output_type": "display_data",
          "data": {
            "text/plain": [
              "┏━━━━━━━━━━━━━━━━━━━━━━━━━━━━━━━━━┳━━━━━━━━━━━━━━━━━━━━━━━━┳━━━━━━━━━━━━━━━┓\n",
              "┃\u001b[1m \u001b[0m\u001b[1mLayer (type)                   \u001b[0m\u001b[1m \u001b[0m┃\u001b[1m \u001b[0m\u001b[1mOutput Shape          \u001b[0m\u001b[1m \u001b[0m┃\u001b[1m \u001b[0m\u001b[1m      Param #\u001b[0m\u001b[1m \u001b[0m┃\n",
              "┡━━━━━━━━━━━━━━━━━━━━━━━━━━━━━━━━━╇━━━━━━━━━━━━━━━━━━━━━━━━╇━━━━━━━━━━━━━━━┩\n",
              "│ densenet121 (\u001b[38;5;33mFunctional\u001b[0m)        │ (\u001b[38;5;45mNone\u001b[0m, \u001b[38;5;34m3\u001b[0m, \u001b[38;5;34m3\u001b[0m, \u001b[38;5;34m1024\u001b[0m)     │     \u001b[38;5;34m7,037,504\u001b[0m │\n",
              "├─────────────────────────────────┼────────────────────────┼───────────────┤\n",
              "│ global_average_pooling2d        │ (\u001b[38;5;45mNone\u001b[0m, \u001b[38;5;34m1024\u001b[0m)           │             \u001b[38;5;34m0\u001b[0m │\n",
              "│ (\u001b[38;5;33mGlobalAveragePooling2D\u001b[0m)        │                        │               │\n",
              "├─────────────────────────────────┼────────────────────────┼───────────────┤\n",
              "│ dense (\u001b[38;5;33mDense\u001b[0m)                   │ (\u001b[38;5;45mNone\u001b[0m, \u001b[38;5;34m512\u001b[0m)            │       \u001b[38;5;34m524,800\u001b[0m │\n",
              "├─────────────────────────────────┼────────────────────────┼───────────────┤\n",
              "│ batch_normalization             │ (\u001b[38;5;45mNone\u001b[0m, \u001b[38;5;34m512\u001b[0m)            │         \u001b[38;5;34m2,048\u001b[0m │\n",
              "│ (\u001b[38;5;33mBatchNormalization\u001b[0m)            │                        │               │\n",
              "├─────────────────────────────────┼────────────────────────┼───────────────┤\n",
              "│ dense_1 (\u001b[38;5;33mDense\u001b[0m)                 │ (\u001b[38;5;45mNone\u001b[0m, \u001b[38;5;34m128\u001b[0m)            │        \u001b[38;5;34m65,664\u001b[0m │\n",
              "├─────────────────────────────────┼────────────────────────┼───────────────┤\n",
              "│ batch_normalization_1           │ (\u001b[38;5;45mNone\u001b[0m, \u001b[38;5;34m128\u001b[0m)            │           \u001b[38;5;34m512\u001b[0m │\n",
              "│ (\u001b[38;5;33mBatchNormalization\u001b[0m)            │                        │               │\n",
              "├─────────────────────────────────┼────────────────────────┼───────────────┤\n",
              "│ dropout (\u001b[38;5;33mDropout\u001b[0m)               │ (\u001b[38;5;45mNone\u001b[0m, \u001b[38;5;34m128\u001b[0m)            │             \u001b[38;5;34m0\u001b[0m │\n",
              "├─────────────────────────────────┼────────────────────────┼───────────────┤\n",
              "│ dense_2 (\u001b[38;5;33mDense\u001b[0m)                 │ (\u001b[38;5;45mNone\u001b[0m, \u001b[38;5;34m75\u001b[0m)             │         \u001b[38;5;34m9,675\u001b[0m │\n",
              "└─────────────────────────────────┴────────────────────────┴───────────────┘\n"
            ],
            "text/html": [
              "<pre style=\"white-space:pre;overflow-x:auto;line-height:normal;font-family:Menlo,'DejaVu Sans Mono',consolas,'Courier New',monospace\">┏━━━━━━━━━━━━━━━━━━━━━━━━━━━━━━━━━┳━━━━━━━━━━━━━━━━━━━━━━━━┳━━━━━━━━━━━━━━━┓\n",
              "┃<span style=\"font-weight: bold\"> Layer (type)                    </span>┃<span style=\"font-weight: bold\"> Output Shape           </span>┃<span style=\"font-weight: bold\">       Param # </span>┃\n",
              "┡━━━━━━━━━━━━━━━━━━━━━━━━━━━━━━━━━╇━━━━━━━━━━━━━━━━━━━━━━━━╇━━━━━━━━━━━━━━━┩\n",
              "│ densenet121 (<span style=\"color: #0087ff; text-decoration-color: #0087ff\">Functional</span>)        │ (<span style=\"color: #00d7ff; text-decoration-color: #00d7ff\">None</span>, <span style=\"color: #00af00; text-decoration-color: #00af00\">3</span>, <span style=\"color: #00af00; text-decoration-color: #00af00\">3</span>, <span style=\"color: #00af00; text-decoration-color: #00af00\">1024</span>)     │     <span style=\"color: #00af00; text-decoration-color: #00af00\">7,037,504</span> │\n",
              "├─────────────────────────────────┼────────────────────────┼───────────────┤\n",
              "│ global_average_pooling2d        │ (<span style=\"color: #00d7ff; text-decoration-color: #00d7ff\">None</span>, <span style=\"color: #00af00; text-decoration-color: #00af00\">1024</span>)           │             <span style=\"color: #00af00; text-decoration-color: #00af00\">0</span> │\n",
              "│ (<span style=\"color: #0087ff; text-decoration-color: #0087ff\">GlobalAveragePooling2D</span>)        │                        │               │\n",
              "├─────────────────────────────────┼────────────────────────┼───────────────┤\n",
              "│ dense (<span style=\"color: #0087ff; text-decoration-color: #0087ff\">Dense</span>)                   │ (<span style=\"color: #00d7ff; text-decoration-color: #00d7ff\">None</span>, <span style=\"color: #00af00; text-decoration-color: #00af00\">512</span>)            │       <span style=\"color: #00af00; text-decoration-color: #00af00\">524,800</span> │\n",
              "├─────────────────────────────────┼────────────────────────┼───────────────┤\n",
              "│ batch_normalization             │ (<span style=\"color: #00d7ff; text-decoration-color: #00d7ff\">None</span>, <span style=\"color: #00af00; text-decoration-color: #00af00\">512</span>)            │         <span style=\"color: #00af00; text-decoration-color: #00af00\">2,048</span> │\n",
              "│ (<span style=\"color: #0087ff; text-decoration-color: #0087ff\">BatchNormalization</span>)            │                        │               │\n",
              "├─────────────────────────────────┼────────────────────────┼───────────────┤\n",
              "│ dense_1 (<span style=\"color: #0087ff; text-decoration-color: #0087ff\">Dense</span>)                 │ (<span style=\"color: #00d7ff; text-decoration-color: #00d7ff\">None</span>, <span style=\"color: #00af00; text-decoration-color: #00af00\">128</span>)            │        <span style=\"color: #00af00; text-decoration-color: #00af00\">65,664</span> │\n",
              "├─────────────────────────────────┼────────────────────────┼───────────────┤\n",
              "│ batch_normalization_1           │ (<span style=\"color: #00d7ff; text-decoration-color: #00d7ff\">None</span>, <span style=\"color: #00af00; text-decoration-color: #00af00\">128</span>)            │           <span style=\"color: #00af00; text-decoration-color: #00af00\">512</span> │\n",
              "│ (<span style=\"color: #0087ff; text-decoration-color: #0087ff\">BatchNormalization</span>)            │                        │               │\n",
              "├─────────────────────────────────┼────────────────────────┼───────────────┤\n",
              "│ dropout (<span style=\"color: #0087ff; text-decoration-color: #0087ff\">Dropout</span>)               │ (<span style=\"color: #00d7ff; text-decoration-color: #00d7ff\">None</span>, <span style=\"color: #00af00; text-decoration-color: #00af00\">128</span>)            │             <span style=\"color: #00af00; text-decoration-color: #00af00\">0</span> │\n",
              "├─────────────────────────────────┼────────────────────────┼───────────────┤\n",
              "│ dense_2 (<span style=\"color: #0087ff; text-decoration-color: #0087ff\">Dense</span>)                 │ (<span style=\"color: #00d7ff; text-decoration-color: #00d7ff\">None</span>, <span style=\"color: #00af00; text-decoration-color: #00af00\">75</span>)             │         <span style=\"color: #00af00; text-decoration-color: #00af00\">9,675</span> │\n",
              "└─────────────────────────────────┴────────────────────────┴───────────────┘\n",
              "</pre>\n"
            ]
          },
          "metadata": {}
        },
        {
          "output_type": "display_data",
          "data": {
            "text/plain": [
              "\u001b[1m Total params: \u001b[0m\u001b[38;5;34m7,640,203\u001b[0m (29.15 MB)\n"
            ],
            "text/html": [
              "<pre style=\"white-space:pre;overflow-x:auto;line-height:normal;font-family:Menlo,'DejaVu Sans Mono',consolas,'Courier New',monospace\"><span style=\"font-weight: bold\"> Total params: </span><span style=\"color: #00af00; text-decoration-color: #00af00\">7,640,203</span> (29.15 MB)\n",
              "</pre>\n"
            ]
          },
          "metadata": {}
        },
        {
          "output_type": "display_data",
          "data": {
            "text/plain": [
              "\u001b[1m Trainable params: \u001b[0m\u001b[38;5;34m3,490,827\u001b[0m (13.32 MB)\n"
            ],
            "text/html": [
              "<pre style=\"white-space:pre;overflow-x:auto;line-height:normal;font-family:Menlo,'DejaVu Sans Mono',consolas,'Courier New',monospace\"><span style=\"font-weight: bold\"> Trainable params: </span><span style=\"color: #00af00; text-decoration-color: #00af00\">3,490,827</span> (13.32 MB)\n",
              "</pre>\n"
            ]
          },
          "metadata": {}
        },
        {
          "output_type": "display_data",
          "data": {
            "text/plain": [
              "\u001b[1m Non-trainable params: \u001b[0m\u001b[38;5;34m4,149,376\u001b[0m (15.83 MB)\n"
            ],
            "text/html": [
              "<pre style=\"white-space:pre;overflow-x:auto;line-height:normal;font-family:Menlo,'DejaVu Sans Mono',consolas,'Courier New',monospace\"><span style=\"font-weight: bold\"> Non-trainable params: </span><span style=\"color: #00af00; text-decoration-color: #00af00\">4,149,376</span> (15.83 MB)\n",
              "</pre>\n"
            ]
          },
          "metadata": {}
        }
      ]
    },
    {
      "cell_type": "code",
      "source": [
        "history=model.fit(\n",
        "    train_generator,\n",
        "    validation_data=val_generator,\n",
        "    class_weight=class_weight,\n",
        "    epochs=100,\n",
        "    callbacks=[keras.callbacks.EarlyStopping(patience=5, restore_best_weights=True)],\n",
        "    verbose=1\n",
        ")"
      ],
      "metadata": {
        "colab": {
          "base_uri": "https://localhost:8080/"
        },
        "id": "Fy0SYyoCAsjw",
        "outputId": "207f3c4a-aa3f-4382-b75f-abf19773a3c0"
      },
      "execution_count": null,
      "outputs": [
        {
          "output_type": "stream",
          "name": "stdout",
          "text": [
            "Epoch 1/100\n",
            "\u001b[1m163/163\u001b[0m \u001b[32m━━━━━━━━━━━━━━━━━━━━\u001b[0m\u001b[37m\u001b[0m \u001b[1m152s\u001b[0m 497ms/step - accuracy: 0.0136 - loss: 5.1478 - val_accuracy: 0.0138 - val_loss: 4.7028\n",
            "Epoch 2/100\n",
            "\u001b[1m163/163\u001b[0m \u001b[32m━━━━━━━━━━━━━━━━━━━━\u001b[0m\u001b[37m\u001b[0m \u001b[1m21s\u001b[0m 125ms/step - accuracy: 0.0229 - loss: 4.8098 - val_accuracy: 0.0385 - val_loss: 4.4411\n",
            "Epoch 3/100\n",
            "\u001b[1m163/163\u001b[0m \u001b[32m━━━━━━━━━━━━━━━━━━━━\u001b[0m\u001b[37m\u001b[0m \u001b[1m20s\u001b[0m 125ms/step - accuracy: 0.0457 - loss: 4.5026 - val_accuracy: 0.0831 - val_loss: 4.1560\n",
            "Epoch 4/100\n",
            "\u001b[1m163/163\u001b[0m \u001b[32m━━━━━━━━━━━━━━━━━━━━\u001b[0m\u001b[37m\u001b[0m \u001b[1m19s\u001b[0m 118ms/step - accuracy: 0.0786 - loss: 4.2202 - val_accuracy: 0.1215 - val_loss: 3.8447\n",
            "Epoch 5/100\n",
            "\u001b[1m163/163\u001b[0m \u001b[32m━━━━━━━━━━━━━━━━━━━━\u001b[0m\u001b[37m\u001b[0m \u001b[1m20s\u001b[0m 124ms/step - accuracy: 0.1072 - loss: 3.9933 - val_accuracy: 0.1738 - val_loss: 3.5498\n",
            "Epoch 6/100\n",
            "\u001b[1m163/163\u001b[0m \u001b[32m━━━━━━━━━━━━━━━━━━━━\u001b[0m\u001b[37m\u001b[0m \u001b[1m19s\u001b[0m 118ms/step - accuracy: 0.1458 - loss: 3.7252 - val_accuracy: 0.2415 - val_loss: 3.2759\n",
            "Epoch 7/100\n",
            "\u001b[1m163/163\u001b[0m \u001b[32m━━━━━━━━━━━━━━━━━━━━\u001b[0m\u001b[37m\u001b[0m \u001b[1m21s\u001b[0m 120ms/step - accuracy: 0.2051 - loss: 3.4636 - val_accuracy: 0.2923 - val_loss: 3.0332\n",
            "Epoch 8/100\n",
            "\u001b[1m163/163\u001b[0m \u001b[32m━━━━━━━━━━━━━━━━━━━━\u001b[0m\u001b[37m\u001b[0m \u001b[1m20s\u001b[0m 125ms/step - accuracy: 0.2257 - loss: 3.2970 - val_accuracy: 0.3538 - val_loss: 2.8131\n",
            "Epoch 9/100\n",
            "\u001b[1m163/163\u001b[0m \u001b[32m━━━━━━━━━━━━━━━━━━━━\u001b[0m\u001b[37m\u001b[0m \u001b[1m20s\u001b[0m 119ms/step - accuracy: 0.2837 - loss: 3.0884 - val_accuracy: 0.4077 - val_loss: 2.6234\n",
            "Epoch 10/100\n",
            "\u001b[1m163/163\u001b[0m \u001b[32m━━━━━━━━━━━━━━━━━━━━\u001b[0m\u001b[37m\u001b[0m \u001b[1m20s\u001b[0m 124ms/step - accuracy: 0.3057 - loss: 2.9757 - val_accuracy: 0.4492 - val_loss: 2.4505\n",
            "Epoch 11/100\n",
            "\u001b[1m163/163\u001b[0m \u001b[32m━━━━━━━━━━━━━━━━━━━━\u001b[0m\u001b[37m\u001b[0m \u001b[1m20s\u001b[0m 124ms/step - accuracy: 0.3421 - loss: 2.8132 - val_accuracy: 0.4923 - val_loss: 2.2979\n",
            "Epoch 12/100\n",
            "\u001b[1m163/163\u001b[0m \u001b[32m━━━━━━━━━━━━━━━━━━━━\u001b[0m\u001b[37m\u001b[0m \u001b[1m19s\u001b[0m 118ms/step - accuracy: 0.3573 - loss: 2.6810 - val_accuracy: 0.5200 - val_loss: 2.1541\n",
            "Epoch 13/100\n",
            "\u001b[1m163/163\u001b[0m \u001b[32m━━━━━━━━━━━━━━━━━━━━\u001b[0m\u001b[37m\u001b[0m \u001b[1m20s\u001b[0m 123ms/step - accuracy: 0.3884 - loss: 2.6012 - val_accuracy: 0.5585 - val_loss: 2.0325\n",
            "Epoch 14/100\n",
            "\u001b[1m163/163\u001b[0m \u001b[32m━━━━━━━━━━━━━━━━━━━━\u001b[0m\u001b[37m\u001b[0m \u001b[1m19s\u001b[0m 119ms/step - accuracy: 0.4561 - loss: 2.3714 - val_accuracy: 0.5846 - val_loss: 1.9110\n",
            "Epoch 15/100\n",
            "\u001b[1m163/163\u001b[0m \u001b[32m━━━━━━━━━━━━━━━━━━━━\u001b[0m\u001b[37m\u001b[0m \u001b[1m20s\u001b[0m 124ms/step - accuracy: 0.4867 - loss: 2.2557 - val_accuracy: 0.6200 - val_loss: 1.8116\n",
            "Epoch 16/100\n",
            "\u001b[1m163/163\u001b[0m \u001b[32m━━━━━━━━━━━━━━━━━━━━\u001b[0m\u001b[37m\u001b[0m \u001b[1m20s\u001b[0m 123ms/step - accuracy: 0.5131 - loss: 2.1607 - val_accuracy: 0.6308 - val_loss: 1.7222\n",
            "Epoch 17/100\n",
            "\u001b[1m163/163\u001b[0m \u001b[32m━━━━━━━━━━━━━━━━━━━━\u001b[0m\u001b[37m\u001b[0m \u001b[1m19s\u001b[0m 118ms/step - accuracy: 0.5274 - loss: 2.0491 - val_accuracy: 0.6492 - val_loss: 1.6487\n",
            "Epoch 18/100\n",
            "\u001b[1m163/163\u001b[0m \u001b[32m━━━━━━━━━━━━━━━━━━━━\u001b[0m\u001b[37m\u001b[0m \u001b[1m20s\u001b[0m 122ms/step - accuracy: 0.5433 - loss: 1.9841 - val_accuracy: 0.6754 - val_loss: 1.5625\n",
            "Epoch 19/100\n",
            "\u001b[1m163/163\u001b[0m \u001b[32m━━━━━━━━━━━━━━━━━━━━\u001b[0m\u001b[37m\u001b[0m \u001b[1m19s\u001b[0m 117ms/step - accuracy: 0.5799 - loss: 1.8833 - val_accuracy: 0.6862 - val_loss: 1.4935\n",
            "Epoch 20/100\n",
            "\u001b[1m163/163\u001b[0m \u001b[32m━━━━━━━━━━━━━━━━━━━━\u001b[0m\u001b[37m\u001b[0m \u001b[1m20s\u001b[0m 123ms/step - accuracy: 0.5895 - loss: 1.8371 - val_accuracy: 0.7031 - val_loss: 1.4259\n",
            "Epoch 21/100\n",
            "\u001b[1m163/163\u001b[0m \u001b[32m━━━━━━━━━━━━━━━━━━━━\u001b[0m\u001b[37m\u001b[0m \u001b[1m20s\u001b[0m 120ms/step - accuracy: 0.6191 - loss: 1.7270 - val_accuracy: 0.7092 - val_loss: 1.3607\n",
            "Epoch 22/100\n",
            "\u001b[1m163/163\u001b[0m \u001b[32m━━━━━━━━━━━━━━━━━━━━\u001b[0m\u001b[37m\u001b[0m \u001b[1m19s\u001b[0m 118ms/step - accuracy: 0.6112 - loss: 1.7269 - val_accuracy: 0.7246 - val_loss: 1.3018\n",
            "Epoch 23/100\n",
            "\u001b[1m163/163\u001b[0m \u001b[32m━━━━━━━━━━━━━━━━━━━━\u001b[0m\u001b[37m\u001b[0m \u001b[1m20s\u001b[0m 126ms/step - accuracy: 0.6462 - loss: 1.6201 - val_accuracy: 0.7431 - val_loss: 1.2474\n",
            "Epoch 24/100\n",
            "\u001b[1m163/163\u001b[0m \u001b[32m━━━━━━━━━━━━━━━━━━━━\u001b[0m\u001b[37m\u001b[0m \u001b[1m19s\u001b[0m 119ms/step - accuracy: 0.6515 - loss: 1.5940 - val_accuracy: 0.7523 - val_loss: 1.2027\n",
            "Epoch 25/100\n",
            "\u001b[1m163/163\u001b[0m \u001b[32m━━━━━━━━━━━━━━━━━━━━\u001b[0m\u001b[37m\u001b[0m \u001b[1m20s\u001b[0m 125ms/step - accuracy: 0.6724 - loss: 1.5024 - val_accuracy: 0.7569 - val_loss: 1.1568\n",
            "Epoch 26/100\n",
            "\u001b[1m163/163\u001b[0m \u001b[32m━━━━━━━━━━━━━━━━━━━━\u001b[0m\u001b[37m\u001b[0m \u001b[1m20s\u001b[0m 123ms/step - accuracy: 0.6846 - loss: 1.4357 - val_accuracy: 0.7692 - val_loss: 1.1065\n",
            "Epoch 27/100\n",
            "\u001b[1m163/163\u001b[0m \u001b[32m━━━━━━━━━━━━━━━━━━━━\u001b[0m\u001b[37m\u001b[0m \u001b[1m19s\u001b[0m 119ms/step - accuracy: 0.7172 - loss: 1.3806 - val_accuracy: 0.7738 - val_loss: 1.0769\n",
            "Epoch 28/100\n",
            "\u001b[1m163/163\u001b[0m \u001b[32m━━━━━━━━━━━━━━━━━━━━\u001b[0m\u001b[37m\u001b[0m \u001b[1m20s\u001b[0m 123ms/step - accuracy: 0.7138 - loss: 1.3362 - val_accuracy: 0.7692 - val_loss: 1.0382\n",
            "Epoch 29/100\n",
            "\u001b[1m163/163\u001b[0m \u001b[32m━━━━━━━━━━━━━━━━━━━━\u001b[0m\u001b[37m\u001b[0m \u001b[1m19s\u001b[0m 119ms/step - accuracy: 0.7329 - loss: 1.2857 - val_accuracy: 0.7769 - val_loss: 1.0043\n",
            "Epoch 30/100\n",
            "\u001b[1m163/163\u001b[0m \u001b[32m━━━━━━━━━━━━━━━━━━━━\u001b[0m\u001b[37m\u001b[0m \u001b[1m20s\u001b[0m 124ms/step - accuracy: 0.7324 - loss: 1.2432 - val_accuracy: 0.7831 - val_loss: 0.9680\n",
            "Epoch 31/100\n",
            "\u001b[1m163/163\u001b[0m \u001b[32m━━━━━━━━━━━━━━━━━━━━\u001b[0m\u001b[37m\u001b[0m \u001b[1m20s\u001b[0m 120ms/step - accuracy: 0.7452 - loss: 1.1866 - val_accuracy: 0.7908 - val_loss: 0.9364\n",
            "Epoch 32/100\n",
            "\u001b[1m163/163\u001b[0m \u001b[32m━━━━━━━━━━━━━━━━━━━━\u001b[0m\u001b[37m\u001b[0m \u001b[1m19s\u001b[0m 117ms/step - accuracy: 0.7565 - loss: 1.1336 - val_accuracy: 0.8046 - val_loss: 0.9099\n",
            "Epoch 33/100\n",
            "\u001b[1m163/163\u001b[0m \u001b[32m━━━━━━━━━━━━━━━━━━━━\u001b[0m\u001b[37m\u001b[0m \u001b[1m20s\u001b[0m 124ms/step - accuracy: 0.7787 - loss: 1.0934 - val_accuracy: 0.8092 - val_loss: 0.8792\n",
            "Epoch 34/100\n",
            "\u001b[1m163/163\u001b[0m \u001b[32m━━━━━━━━━━━━━━━━━━━━\u001b[0m\u001b[37m\u001b[0m \u001b[1m19s\u001b[0m 119ms/step - accuracy: 0.7691 - loss: 1.0948 - val_accuracy: 0.8092 - val_loss: 0.8567\n",
            "Epoch 35/100\n",
            "\u001b[1m163/163\u001b[0m \u001b[32m━━━━━━━━━━━━━━━━━━━━\u001b[0m\u001b[37m\u001b[0m \u001b[1m20s\u001b[0m 124ms/step - accuracy: 0.7859 - loss: 1.0169 - val_accuracy: 0.8138 - val_loss: 0.8315\n",
            "Epoch 36/100\n",
            "\u001b[1m163/163\u001b[0m \u001b[32m━━━━━━━━━━━━━━━━━━━━\u001b[0m\u001b[37m\u001b[0m \u001b[1m20s\u001b[0m 123ms/step - accuracy: 0.7774 - loss: 1.0355 - val_accuracy: 0.8169 - val_loss: 0.8078\n",
            "Epoch 37/100\n",
            "\u001b[1m163/163\u001b[0m \u001b[32m━━━━━━━━━━━━━━━━━━━━\u001b[0m\u001b[37m\u001b[0m \u001b[1m19s\u001b[0m 119ms/step - accuracy: 0.8008 - loss: 0.9639 - val_accuracy: 0.8138 - val_loss: 0.7869\n",
            "Epoch 38/100\n",
            "\u001b[1m163/163\u001b[0m \u001b[32m━━━━━━━━━━━━━━━━━━━━\u001b[0m\u001b[37m\u001b[0m \u001b[1m20s\u001b[0m 125ms/step - accuracy: 0.7916 - loss: 0.9794 - val_accuracy: 0.8231 - val_loss: 0.7683\n",
            "Epoch 39/100\n",
            "\u001b[1m163/163\u001b[0m \u001b[32m━━━━━━━━━━━━━━━━━━━━\u001b[0m\u001b[37m\u001b[0m \u001b[1m20s\u001b[0m 120ms/step - accuracy: 0.8183 - loss: 0.9088 - val_accuracy: 0.8200 - val_loss: 0.7505\n",
            "Epoch 40/100\n",
            "\u001b[1m163/163\u001b[0m \u001b[32m━━━━━━━━━━━━━━━━━━━━\u001b[0m\u001b[37m\u001b[0m \u001b[1m21s\u001b[0m 121ms/step - accuracy: 0.8138 - loss: 0.8999 - val_accuracy: 0.8323 - val_loss: 0.7298\n",
            "Epoch 41/100\n",
            "\u001b[1m163/163\u001b[0m \u001b[32m━━━━━━━━━━━━━━━━━━━━\u001b[0m\u001b[37m\u001b[0m \u001b[1m20s\u001b[0m 124ms/step - accuracy: 0.8261 - loss: 0.8475 - val_accuracy: 0.8323 - val_loss: 0.7161\n",
            "Epoch 42/100\n",
            "\u001b[1m163/163\u001b[0m \u001b[32m━━━━━━━━━━━━━━━━━━━━\u001b[0m\u001b[37m\u001b[0m \u001b[1m20s\u001b[0m 120ms/step - accuracy: 0.8228 - loss: 0.8493 - val_accuracy: 0.8354 - val_loss: 0.6996\n",
            "Epoch 43/100\n",
            "\u001b[1m163/163\u001b[0m \u001b[32m━━━━━━━━━━━━━━━━━━━━\u001b[0m\u001b[37m\u001b[0m \u001b[1m21s\u001b[0m 126ms/step - accuracy: 0.8254 - loss: 0.8404 - val_accuracy: 0.8415 - val_loss: 0.6764\n",
            "Epoch 44/100\n",
            "\u001b[1m163/163\u001b[0m \u001b[32m━━━━━━━━━━━━━━━━━━━━\u001b[0m\u001b[37m\u001b[0m \u001b[1m20s\u001b[0m 125ms/step - accuracy: 0.8386 - loss: 0.7950 - val_accuracy: 0.8446 - val_loss: 0.6603\n",
            "Epoch 45/100\n",
            "\u001b[1m163/163\u001b[0m \u001b[32m━━━━━━━━━━━━━━━━━━━━\u001b[0m\u001b[37m\u001b[0m \u001b[1m19s\u001b[0m 119ms/step - accuracy: 0.8455 - loss: 0.7603 - val_accuracy: 0.8462 - val_loss: 0.6490\n",
            "Epoch 46/100\n",
            "\u001b[1m163/163\u001b[0m \u001b[32m━━━━━━━━━━━━━━━━━━━━\u001b[0m\u001b[37m\u001b[0m \u001b[1m20s\u001b[0m 124ms/step - accuracy: 0.8397 - loss: 0.7499 - val_accuracy: 0.8462 - val_loss: 0.6385\n",
            "Epoch 47/100\n",
            "\u001b[1m163/163\u001b[0m \u001b[32m━━━━━━━━━━━━━━━━━━━━\u001b[0m\u001b[37m\u001b[0m \u001b[1m19s\u001b[0m 118ms/step - accuracy: 0.8456 - loss: 0.7184 - val_accuracy: 0.8508 - val_loss: 0.6277\n",
            "Epoch 48/100\n",
            "\u001b[1m163/163\u001b[0m \u001b[32m━━━━━━━━━━━━━━━━━━━━\u001b[0m\u001b[37m\u001b[0m \u001b[1m21s\u001b[0m 119ms/step - accuracy: 0.8552 - loss: 0.7145 - val_accuracy: 0.8554 - val_loss: 0.6128\n",
            "Epoch 49/100\n",
            "\u001b[1m163/163\u001b[0m \u001b[32m━━━━━━━━━━━━━━━━━━━━\u001b[0m\u001b[37m\u001b[0m \u001b[1m20s\u001b[0m 125ms/step - accuracy: 0.8592 - loss: 0.6945 - val_accuracy: 0.8631 - val_loss: 0.6008\n",
            "Epoch 50/100\n",
            "\u001b[1m163/163\u001b[0m \u001b[32m━━━━━━━━━━━━━━━━━━━━\u001b[0m\u001b[37m\u001b[0m \u001b[1m19s\u001b[0m 119ms/step - accuracy: 0.8497 - loss: 0.6727 - val_accuracy: 0.8646 - val_loss: 0.5901\n",
            "Epoch 51/100\n",
            "\u001b[1m163/163\u001b[0m \u001b[32m━━━━━━━━━━━━━━━━━━━━\u001b[0m\u001b[37m\u001b[0m \u001b[1m21s\u001b[0m 126ms/step - accuracy: 0.8558 - loss: 0.6746 - val_accuracy: 0.8692 - val_loss: 0.5778\n",
            "Epoch 52/100\n",
            "\u001b[1m163/163\u001b[0m \u001b[32m━━━━━━━━━━━━━━━━━━━━\u001b[0m\u001b[37m\u001b[0m \u001b[1m20s\u001b[0m 122ms/step - accuracy: 0.8533 - loss: 0.6810 - val_accuracy: 0.8708 - val_loss: 0.5686\n",
            "Epoch 53/100\n",
            "\u001b[1m163/163\u001b[0m \u001b[32m━━━━━━━━━━━━━━━━━━━━\u001b[0m\u001b[37m\u001b[0m \u001b[1m19s\u001b[0m 117ms/step - accuracy: 0.8675 - loss: 0.6249 - val_accuracy: 0.8754 - val_loss: 0.5562\n",
            "Epoch 54/100\n",
            "\u001b[1m163/163\u001b[0m \u001b[32m━━━━━━━━━━━━━━━━━━━━\u001b[0m\u001b[37m\u001b[0m \u001b[1m20s\u001b[0m 121ms/step - accuracy: 0.8719 - loss: 0.6090 - val_accuracy: 0.8785 - val_loss: 0.5466\n",
            "Epoch 55/100\n",
            "\u001b[1m163/163\u001b[0m \u001b[32m━━━━━━━━━━━━━━━━━━━━\u001b[0m\u001b[37m\u001b[0m \u001b[1m19s\u001b[0m 116ms/step - accuracy: 0.8791 - loss: 0.5909 - val_accuracy: 0.8785 - val_loss: 0.5359\n",
            "Epoch 56/100\n",
            "\u001b[1m163/163\u001b[0m \u001b[32m━━━━━━━━━━━━━━━━━━━━\u001b[0m\u001b[37m\u001b[0m \u001b[1m20s\u001b[0m 121ms/step - accuracy: 0.8813 - loss: 0.5572 - val_accuracy: 0.8723 - val_loss: 0.5257\n",
            "Epoch 57/100\n",
            "\u001b[1m163/163\u001b[0m \u001b[32m━━━━━━━━━━━━━━━━━━━━\u001b[0m\u001b[37m\u001b[0m \u001b[1m19s\u001b[0m 116ms/step - accuracy: 0.8851 - loss: 0.5731 - val_accuracy: 0.8800 - val_loss: 0.5188\n",
            "Epoch 58/100\n",
            "\u001b[1m163/163\u001b[0m \u001b[32m━━━━━━━━━━━━━━━━━━━━\u001b[0m\u001b[37m\u001b[0m \u001b[1m20s\u001b[0m 120ms/step - accuracy: 0.8843 - loss: 0.5538 - val_accuracy: 0.8815 - val_loss: 0.5116\n",
            "Epoch 59/100\n",
            "\u001b[1m163/163\u001b[0m \u001b[32m━━━━━━━━━━━━━━━━━━━━\u001b[0m\u001b[37m\u001b[0m \u001b[1m20s\u001b[0m 121ms/step - accuracy: 0.8875 - loss: 0.5289 - val_accuracy: 0.8800 - val_loss: 0.5026\n",
            "Epoch 60/100\n",
            "\u001b[1m163/163\u001b[0m \u001b[32m━━━━━━━━━━━━━━━━━━━━\u001b[0m\u001b[37m\u001b[0m \u001b[1m19s\u001b[0m 119ms/step - accuracy: 0.8969 - loss: 0.4997 - val_accuracy: 0.8815 - val_loss: 0.4941\n",
            "Epoch 61/100\n",
            "\u001b[1m163/163\u001b[0m \u001b[32m━━━━━━━━━━━━━━━━━━━━\u001b[0m\u001b[37m\u001b[0m \u001b[1m20s\u001b[0m 123ms/step - accuracy: 0.8997 - loss: 0.4895 - val_accuracy: 0.8846 - val_loss: 0.4871\n",
            "Epoch 62/100\n",
            "\u001b[1m163/163\u001b[0m \u001b[32m━━━━━━━━━━━━━━━━━━━━\u001b[0m\u001b[37m\u001b[0m \u001b[1m19s\u001b[0m 114ms/step - accuracy: 0.8949 - loss: 0.5111 - val_accuracy: 0.8892 - val_loss: 0.4852\n",
            "Epoch 63/100\n",
            "\u001b[1m163/163\u001b[0m \u001b[32m━━━━━━━━━━━━━━━━━━━━\u001b[0m\u001b[37m\u001b[0m \u001b[1m20s\u001b[0m 121ms/step - accuracy: 0.9002 - loss: 0.4871 - val_accuracy: 0.8923 - val_loss: 0.4767\n",
            "Epoch 64/100\n",
            "\u001b[1m163/163\u001b[0m \u001b[32m━━━━━━━━━━━━━━━━━━━━\u001b[0m\u001b[37m\u001b[0m \u001b[1m19s\u001b[0m 117ms/step - accuracy: 0.9150 - loss: 0.4624 - val_accuracy: 0.8892 - val_loss: 0.4720\n",
            "Epoch 65/100\n",
            "\u001b[1m163/163\u001b[0m \u001b[32m━━━━━━━━━━━━━━━━━━━━\u001b[0m\u001b[37m\u001b[0m \u001b[1m19s\u001b[0m 117ms/step - accuracy: 0.8984 - loss: 0.4757 - val_accuracy: 0.8938 - val_loss: 0.4635\n",
            "Epoch 66/100\n",
            "\u001b[1m163/163\u001b[0m \u001b[32m━━━━━━━━━━━━━━━━━━━━\u001b[0m\u001b[37m\u001b[0m \u001b[1m20s\u001b[0m 123ms/step - accuracy: 0.9103 - loss: 0.4207 - val_accuracy: 0.8969 - val_loss: 0.4607\n",
            "Epoch 67/100\n",
            "\u001b[1m163/163\u001b[0m \u001b[32m━━━━━━━━━━━━━━━━━━━━\u001b[0m\u001b[37m\u001b[0m \u001b[1m19s\u001b[0m 119ms/step - accuracy: 0.9089 - loss: 0.4546 - val_accuracy: 0.8938 - val_loss: 0.4575\n",
            "Epoch 68/100\n",
            "\u001b[1m163/163\u001b[0m \u001b[32m━━━━━━━━━━━━━━━━━━━━\u001b[0m\u001b[37m\u001b[0m \u001b[1m20s\u001b[0m 122ms/step - accuracy: 0.9091 - loss: 0.4360 - val_accuracy: 0.8938 - val_loss: 0.4519\n",
            "Epoch 69/100\n",
            "\u001b[1m163/163\u001b[0m \u001b[32m━━━━━━━━━━━━━━━━━━━━\u001b[0m\u001b[37m\u001b[0m \u001b[1m19s\u001b[0m 118ms/step - accuracy: 0.9145 - loss: 0.4254 - val_accuracy: 0.8969 - val_loss: 0.4446\n",
            "Epoch 70/100\n",
            "\u001b[1m163/163\u001b[0m \u001b[32m━━━━━━━━━━━━━━━━━━━━\u001b[0m\u001b[37m\u001b[0m \u001b[1m20s\u001b[0m 117ms/step - accuracy: 0.9094 - loss: 0.4362 - val_accuracy: 0.8985 - val_loss: 0.4373\n",
            "Epoch 71/100\n",
            "\u001b[1m163/163\u001b[0m \u001b[32m━━━━━━━━━━━━━━━━━━━━\u001b[0m\u001b[37m\u001b[0m \u001b[1m20s\u001b[0m 120ms/step - accuracy: 0.9251 - loss: 0.3837 - val_accuracy: 0.9031 - val_loss: 0.4358\n",
            "Epoch 72/100\n",
            "\u001b[1m163/163\u001b[0m \u001b[32m━━━━━━━━━━━━━━━━━━━━\u001b[0m\u001b[37m\u001b[0m \u001b[1m19s\u001b[0m 117ms/step - accuracy: 0.9225 - loss: 0.3760 - val_accuracy: 0.9015 - val_loss: 0.4295\n",
            "Epoch 73/100\n",
            "\u001b[1m163/163\u001b[0m \u001b[32m━━━━━━━━━━━━━━━━━━━━\u001b[0m\u001b[37m\u001b[0m \u001b[1m20s\u001b[0m 123ms/step - accuracy: 0.9240 - loss: 0.3712 - val_accuracy: 0.9000 - val_loss: 0.4256\n",
            "Epoch 74/100\n",
            "\u001b[1m163/163\u001b[0m \u001b[32m━━━━━━━━━━━━━━━━━━━━\u001b[0m\u001b[37m\u001b[0m \u001b[1m19s\u001b[0m 118ms/step - accuracy: 0.9223 - loss: 0.3829 - val_accuracy: 0.9000 - val_loss: 0.4207\n",
            "Epoch 75/100\n",
            "\u001b[1m163/163\u001b[0m \u001b[32m━━━━━━━━━━━━━━━━━━━━\u001b[0m\u001b[37m\u001b[0m \u001b[1m20s\u001b[0m 118ms/step - accuracy: 0.9160 - loss: 0.3752 - val_accuracy: 0.9015 - val_loss: 0.4194\n",
            "Epoch 76/100\n",
            "\u001b[1m163/163\u001b[0m \u001b[32m━━━━━━━━━━━━━━━━━━━━\u001b[0m\u001b[37m\u001b[0m \u001b[1m20s\u001b[0m 121ms/step - accuracy: 0.9274 - loss: 0.3613 - val_accuracy: 0.8985 - val_loss: 0.4200\n",
            "Epoch 77/100\n",
            "\u001b[1m163/163\u001b[0m \u001b[32m━━━━━━━━━━━━━━━━━━━━\u001b[0m\u001b[37m\u001b[0m \u001b[1m19s\u001b[0m 118ms/step - accuracy: 0.9345 - loss: 0.3363 - val_accuracy: 0.9031 - val_loss: 0.4144\n",
            "Epoch 78/100\n",
            "\u001b[1m163/163\u001b[0m \u001b[32m━━━━━━━━━━━━━━━━━━━━\u001b[0m\u001b[37m\u001b[0m \u001b[1m20s\u001b[0m 124ms/step - accuracy: 0.9358 - loss: 0.3262 - val_accuracy: 0.9031 - val_loss: 0.4114\n",
            "Epoch 79/100\n",
            "\u001b[1m163/163\u001b[0m \u001b[32m━━━━━━━━━━━━━━━━━━━━\u001b[0m\u001b[37m\u001b[0m \u001b[1m20s\u001b[0m 124ms/step - accuracy: 0.9272 - loss: 0.3546 - val_accuracy: 0.9062 - val_loss: 0.4111\n",
            "Epoch 80/100\n",
            "\u001b[1m163/163\u001b[0m \u001b[32m━━━━━━━━━━━━━━━━━━━━\u001b[0m\u001b[37m\u001b[0m \u001b[1m19s\u001b[0m 118ms/step - accuracy: 0.9319 - loss: 0.3315 - val_accuracy: 0.9046 - val_loss: 0.4090\n",
            "Epoch 81/100\n",
            "\u001b[1m163/163\u001b[0m \u001b[32m━━━━━━━━━━━━━━━━━━━━\u001b[0m\u001b[37m\u001b[0m \u001b[1m20s\u001b[0m 120ms/step - accuracy: 0.9341 - loss: 0.3145 - val_accuracy: 0.9031 - val_loss: 0.4033\n",
            "Epoch 82/100\n",
            "\u001b[1m163/163\u001b[0m \u001b[32m━━━━━━━━━━━━━━━━━━━━\u001b[0m\u001b[37m\u001b[0m \u001b[1m19s\u001b[0m 115ms/step - accuracy: 0.9370 - loss: 0.3128 - val_accuracy: 0.9062 - val_loss: 0.4001\n",
            "Epoch 83/100\n",
            "\u001b[1m163/163\u001b[0m \u001b[32m━━━━━━━━━━━━━━━━━━━━\u001b[0m\u001b[37m\u001b[0m \u001b[1m20s\u001b[0m 120ms/step - accuracy: 0.9394 - loss: 0.2928 - val_accuracy: 0.9092 - val_loss: 0.3955\n",
            "Epoch 84/100\n",
            "\u001b[1m163/163\u001b[0m \u001b[32m━━━━━━━━━━━━━━━━━━━━\u001b[0m\u001b[37m\u001b[0m \u001b[1m20s\u001b[0m 120ms/step - accuracy: 0.9365 - loss: 0.3123 - val_accuracy: 0.9092 - val_loss: 0.3962\n",
            "Epoch 85/100\n",
            "\u001b[1m163/163\u001b[0m \u001b[32m━━━━━━━━━━━━━━━━━━━━\u001b[0m\u001b[37m\u001b[0m \u001b[1m20s\u001b[0m 118ms/step - accuracy: 0.9364 - loss: 0.3037 - val_accuracy: 0.9077 - val_loss: 0.3896\n",
            "Epoch 86/100\n",
            "\u001b[1m163/163\u001b[0m \u001b[32m━━━━━━━━━━━━━━━━━━━━\u001b[0m\u001b[37m\u001b[0m \u001b[1m20s\u001b[0m 121ms/step - accuracy: 0.9409 - loss: 0.2937 - val_accuracy: 0.9108 - val_loss: 0.3874\n",
            "Epoch 87/100\n",
            "\u001b[1m163/163\u001b[0m \u001b[32m━━━━━━━━━━━━━━━━━━━━\u001b[0m\u001b[37m\u001b[0m \u001b[1m19s\u001b[0m 115ms/step - accuracy: 0.9402 - loss: 0.2920 - val_accuracy: 0.9092 - val_loss: 0.3878\n",
            "Epoch 88/100\n",
            "\u001b[1m163/163\u001b[0m \u001b[32m━━━━━━━━━━━━━━━━━━━━\u001b[0m\u001b[37m\u001b[0m \u001b[1m20s\u001b[0m 123ms/step - accuracy: 0.9440 - loss: 0.2814 - val_accuracy: 0.9138 - val_loss: 0.3844\n",
            "Epoch 89/100\n",
            "\u001b[1m163/163\u001b[0m \u001b[32m━━━━━━━━━━━━━━━━━━━━\u001b[0m\u001b[37m\u001b[0m \u001b[1m20s\u001b[0m 120ms/step - accuracy: 0.9471 - loss: 0.2788 - val_accuracy: 0.9092 - val_loss: 0.3830\n",
            "Epoch 90/100\n",
            "\u001b[1m163/163\u001b[0m \u001b[32m━━━━━━━━━━━━━━━━━━━━\u001b[0m\u001b[37m\u001b[0m \u001b[1m20s\u001b[0m 120ms/step - accuracy: 0.9535 - loss: 0.2530 - val_accuracy: 0.9108 - val_loss: 0.3821\n",
            "Epoch 91/100\n",
            "\u001b[1m163/163\u001b[0m \u001b[32m━━━━━━━━━━━━━━━━━━━━\u001b[0m\u001b[37m\u001b[0m \u001b[1m20s\u001b[0m 121ms/step - accuracy: 0.9490 - loss: 0.2510 - val_accuracy: 0.9138 - val_loss: 0.3802\n",
            "Epoch 92/100\n",
            "\u001b[1m163/163\u001b[0m \u001b[32m━━━━━━━━━━━━━━━━━━━━\u001b[0m\u001b[37m\u001b[0m \u001b[1m19s\u001b[0m 116ms/step - accuracy: 0.9503 - loss: 0.2478 - val_accuracy: 0.9123 - val_loss: 0.3772\n",
            "Epoch 93/100\n",
            "\u001b[1m163/163\u001b[0m \u001b[32m━━━━━━━━━━━━━━━━━━━━\u001b[0m\u001b[37m\u001b[0m \u001b[1m20s\u001b[0m 122ms/step - accuracy: 0.9535 - loss: 0.2328 - val_accuracy: 0.9169 - val_loss: 0.3754\n",
            "Epoch 94/100\n",
            "\u001b[1m163/163\u001b[0m \u001b[32m━━━━━━━━━━━━━━━━━━━━\u001b[0m\u001b[37m\u001b[0m \u001b[1m19s\u001b[0m 115ms/step - accuracy: 0.9488 - loss: 0.2501 - val_accuracy: 0.9154 - val_loss: 0.3740\n",
            "Epoch 95/100\n",
            "\u001b[1m163/163\u001b[0m \u001b[32m━━━━━━━━━━━━━━━━━━━━\u001b[0m\u001b[37m\u001b[0m \u001b[1m21s\u001b[0m 117ms/step - accuracy: 0.9557 - loss: 0.2385 - val_accuracy: 0.9092 - val_loss: 0.3724\n",
            "Epoch 96/100\n",
            "\u001b[1m163/163\u001b[0m \u001b[32m━━━━━━━━━━━━━━━━━━━━\u001b[0m\u001b[37m\u001b[0m \u001b[1m20s\u001b[0m 121ms/step - accuracy: 0.9565 - loss: 0.2317 - val_accuracy: 0.9154 - val_loss: 0.3719\n",
            "Epoch 97/100\n",
            "\u001b[1m163/163\u001b[0m \u001b[32m━━━━━━━━━━━━━━━━━━━━\u001b[0m\u001b[37m\u001b[0m \u001b[1m19s\u001b[0m 115ms/step - accuracy: 0.9589 - loss: 0.2039 - val_accuracy: 0.9154 - val_loss: 0.3711\n",
            "Epoch 98/100\n",
            "\u001b[1m163/163\u001b[0m \u001b[32m━━━━━━━━━━━━━━━━━━━━\u001b[0m\u001b[37m\u001b[0m \u001b[1m19s\u001b[0m 119ms/step - accuracy: 0.9537 - loss: 0.2233 - val_accuracy: 0.9123 - val_loss: 0.3653\n",
            "Epoch 99/100\n",
            "\u001b[1m163/163\u001b[0m \u001b[32m━━━━━━━━━━━━━━━━━━━━\u001b[0m\u001b[37m\u001b[0m \u001b[1m19s\u001b[0m 114ms/step - accuracy: 0.9511 - loss: 0.2307 - val_accuracy: 0.9123 - val_loss: 0.3617\n",
            "Epoch 100/100\n",
            "\u001b[1m163/163\u001b[0m \u001b[32m━━━━━━━━━━━━━━━━━━━━\u001b[0m\u001b[37m\u001b[0m \u001b[1m20s\u001b[0m 114ms/step - accuracy: 0.9638 - loss: 0.2043 - val_accuracy: 0.9123 - val_loss: 0.3618\n"
          ]
        }
      ]
    },
    {
      "cell_type": "code",
      "source": [
        "history.history"
      ],
      "metadata": {
        "colab": {
          "base_uri": "https://localhost:8080/"
        },
        "collapsed": true,
        "id": "MnZviNXuf1Rc",
        "outputId": "9155bf46-5bb3-4090-9cde-831e54b682a4"
      },
      "execution_count": null,
      "outputs": [
        {
          "output_type": "execute_result",
          "data": {
            "text/plain": [
              "{'accuracy': [0.015195230022072792,\n",
              "  0.0301981158554554,\n",
              "  0.0511636845767498,\n",
              "  0.08617042005062103,\n",
              "  0.12233121693134308,\n",
              "  0.16330063343048096,\n",
              "  0.2152336984872818,\n",
              "  0.2454318106174469,\n",
              "  0.28659358620643616,\n",
              "  0.3160223066806793,\n",
              "  0.35256779193878174,\n",
              "  0.3739180564880371,\n",
              "  0.4171956181526184,\n",
              "  0.4608578681945801,\n",
              "  0.49509522318840027,\n",
              "  0.517214834690094,\n",
              "  0.5293325781822205,\n",
              "  0.5499134659767151,\n",
              "  0.5793421864509583,\n",
              "  0.5972302556037903,\n",
              "  0.6206963062286377,\n",
              "  0.6230044364929199,\n",
              "  0.6558953523635864,\n",
              "  0.658588171005249,\n",
              "  0.6797460913658142,\n",
              "  0.688016951084137,\n",
              "  0.7122523784637451,\n",
              "  0.7199461460113525,\n",
              "  0.731871485710144,\n",
              "  0.7389882802963257,\n",
              "  0.7470667362213135,\n",
              "  0.7541834712028503,\n",
              "  0.7718791961669922,\n",
              "  0.7703404426574707,\n",
              "  0.7816888093948364,\n",
              "  0.7832275629043579,\n",
              "  0.7951529026031494,\n",
              "  0.7974610328674316,\n",
              "  0.8109251856803894,\n",
              "  0.8161184787750244,\n",
              "  0.8255433440208435,\n",
              "  0.8226581811904907,\n",
              "  0.8276591897010803,\n",
              "  0.8359299898147583,\n",
              "  0.8401615619659424,\n",
              "  0.842854380607605,\n",
              "  0.8468936085700989,\n",
              "  0.8547797799110413,\n",
              "  0.8580496311187744,\n",
              "  0.8611271381378174,\n",
              "  0.8624735474586487,\n",
              "  0.8680515289306641,\n",
              "  0.8684362173080444,\n",
              "  0.872090756893158,\n",
              "  0.8809386491775513,\n",
              "  0.8782458305358887,\n",
              "  0.8870936632156372,\n",
              "  0.886901319026947,\n",
              "  0.8855549097061157,\n",
              "  0.8938257098197937,\n",
              "  0.8938257098197937,\n",
              "  0.8963262438774109,\n",
              "  0.8992114067077637,\n",
              "  0.9084439277648926,\n",
              "  0.8984420299530029,\n",
              "  0.9107520580291748,\n",
              "  0.9061357975006104,\n",
              "  0.9105597138404846,\n",
              "  0.9157530069351196,\n",
              "  0.9126754999160767,\n",
              "  0.92152339220047,\n",
              "  0.9207540154457092,\n",
              "  0.9221004247665405,\n",
              "  0.926716685295105,\n",
              "  0.9209463596343994,\n",
              "  0.9315252900123596,\n",
              "  0.9317176342010498,\n",
              "  0.9311406016349792,\n",
              "  0.9321023225784302,\n",
              "  0.9309482574462891,\n",
              "  0.9321023225784302,\n",
              "  0.9376803040504456,\n",
              "  0.937103271484375,\n",
              "  0.9413348436355591,\n",
              "  0.9384496808052063,\n",
              "  0.9478746056556702,\n",
              "  0.9430660009384155,\n",
              "  0.9499903917312622,\n",
              "  0.94768226146698,\n",
              "  0.94768226146698,\n",
              "  0.9526832103729248,\n",
              "  0.9536449313163757,\n",
              "  0.9538372755050659,\n",
              "  0.9505674242973328,\n",
              "  0.9542219638824463,\n",
              "  0.9569147825241089,\n",
              "  0.9563377499580383,\n",
              "  0.9519138336181641,\n",
              "  0.9590305685997009,\n",
              "  0.9609540104866028],\n",
              " 'loss': [5.069228172302246,\n",
              "  4.742534637451172,\n",
              "  4.441019535064697,\n",
              "  4.153772830963135,\n",
              "  3.9136743545532227,\n",
              "  3.6720080375671387,\n",
              "  3.402216672897339,\n",
              "  3.2371463775634766,\n",
              "  3.071348190307617,\n",
              "  2.932051420211792,\n",
              "  2.7662811279296875,\n",
              "  2.6297390460968018,\n",
              "  2.5133488178253174,\n",
              "  2.350417137145996,\n",
              "  2.2365381717681885,\n",
              "  2.1334822177886963,\n",
              "  2.0594658851623535,\n",
              "  1.9672895669937134,\n",
              "  1.8860207796096802,\n",
              "  1.813589096069336,\n",
              "  1.7226566076278687,\n",
              "  1.6803088188171387,\n",
              "  1.5883010625839233,\n",
              "  1.562537431716919,\n",
              "  1.4766126871109009,\n",
              "  1.4358237981796265,\n",
              "  1.3611105680465698,\n",
              "  1.3259435892105103,\n",
              "  1.280108094215393,\n",
              "  1.223000168800354,\n",
              "  1.1801244020462036,\n",
              "  1.1417094469070435,\n",
              "  1.0968879461288452,\n",
              "  1.080653429031372,\n",
              "  1.0297194719314575,\n",
              "  1.014225959777832,\n",
              "  0.9623270034790039,\n",
              "  0.95987868309021,\n",
              "  0.9082739353179932,\n",
              "  0.8942217230796814,\n",
              "  0.8424954414367676,\n",
              "  0.842542290687561,\n",
              "  0.8210722804069519,\n",
              "  0.7847049832344055,\n",
              "  0.7608423829078674,\n",
              "  0.7419836521148682,\n",
              "  0.7198563814163208,\n",
              "  0.7101806402206421,\n",
              "  0.6883171200752258,\n",
              "  0.6613667011260986,\n",
              "  0.6531400680541992,\n",
              "  0.6368712782859802,\n",
              "  0.6194356083869934,\n",
              "  0.6129851937294006,\n",
              "  0.5813091397285461,\n",
              "  0.5720465779304504,\n",
              "  0.5600764155387878,\n",
              "  0.5504907369613647,\n",
              "  0.5287960767745972,\n",
              "  0.5112923979759216,\n",
              "  0.5033811330795288,\n",
              "  0.5043492913246155,\n",
              "  0.48615315556526184,\n",
              "  0.4687160849571228,\n",
              "  0.4681485891342163,\n",
              "  0.4254465699195862,\n",
              "  0.4458101689815521,\n",
              "  0.42981138825416565,\n",
              "  0.4211902916431427,\n",
              "  0.41311872005462646,\n",
              "  0.39145201444625854,\n",
              "  0.39330148696899414,\n",
              "  0.3795037865638733,\n",
              "  0.3749110996723175,\n",
              "  0.36479195952415466,\n",
              "  0.34899619221687317,\n",
              "  0.35292360186576843,\n",
              "  0.3368845582008362,\n",
              "  0.33797430992126465,\n",
              "  0.3381277322769165,\n",
              "  0.3288267254829407,\n",
              "  0.30884337425231934,\n",
              "  0.3097637891769409,\n",
              "  0.29704970121383667,\n",
              "  0.29723116755485535,\n",
              "  0.2798892557621002,\n",
              "  0.2843533158302307,\n",
              "  0.2679446041584015,\n",
              "  0.26900050044059753,\n",
              "  0.265249103307724,\n",
              "  0.24677984416484833,\n",
              "  0.24319346249103546,\n",
              "  0.240369975566864,\n",
              "  0.24573615193367004,\n",
              "  0.24749231338500977,\n",
              "  0.23132829368114471,\n",
              "  0.21940435469150543,\n",
              "  0.23184366524219513,\n",
              "  0.2204466313123703,\n",
              "  0.21297940611839294],\n",
              " 'val_accuracy': [0.013846153393387794,\n",
              "  0.03846153989434242,\n",
              "  0.08307692408561707,\n",
              "  0.12153846025466919,\n",
              "  0.17384615540504456,\n",
              "  0.24153846502304077,\n",
              "  0.29230770468711853,\n",
              "  0.35384616255760193,\n",
              "  0.4076923131942749,\n",
              "  0.44923076033592224,\n",
              "  0.4923076927661896,\n",
              "  0.5199999809265137,\n",
              "  0.5584615468978882,\n",
              "  0.5846154093742371,\n",
              "  0.6200000047683716,\n",
              "  0.6307692527770996,\n",
              "  0.6492307782173157,\n",
              "  0.6753846406936646,\n",
              "  0.6861538290977478,\n",
              "  0.7030768990516663,\n",
              "  0.7092307806015015,\n",
              "  0.7246153950691223,\n",
              "  0.7430769205093384,\n",
              "  0.7523077130317688,\n",
              "  0.7569230794906616,\n",
              "  0.7692307829856873,\n",
              "  0.7738461494445801,\n",
              "  0.7692307829856873,\n",
              "  0.7769230604171753,\n",
              "  0.7830769419670105,\n",
              "  0.7907692193984985,\n",
              "  0.8046153783798218,\n",
              "  0.8092307448387146,\n",
              "  0.8092307448387146,\n",
              "  0.8138461709022522,\n",
              "  0.8169230818748474,\n",
              "  0.8138461709022522,\n",
              "  0.8230769038200378,\n",
              "  0.8199999928474426,\n",
              "  0.8323076963424683,\n",
              "  0.8323076963424683,\n",
              "  0.8353846073150635,\n",
              "  0.8415384888648987,\n",
              "  0.8446153998374939,\n",
              "  0.8461538553237915,\n",
              "  0.8461538553237915,\n",
              "  0.8507692217826843,\n",
              "  0.8553845882415771,\n",
              "  0.86307692527771,\n",
              "  0.8646153807640076,\n",
              "  0.8692307472229004,\n",
              "  0.870769202709198,\n",
              "  0.8753846287727356,\n",
              "  0.8784615397453308,\n",
              "  0.8784615397453308,\n",
              "  0.8723077178001404,\n",
              "  0.8799999952316284,\n",
              "  0.881538450717926,\n",
              "  0.8799999952316284,\n",
              "  0.881538450717926,\n",
              "  0.8846153616905212,\n",
              "  0.8892307877540588,\n",
              "  0.892307698726654,\n",
              "  0.8892307877540588,\n",
              "  0.8938461542129517,\n",
              "  0.8969230651855469,\n",
              "  0.8938461542129517,\n",
              "  0.8938461542129517,\n",
              "  0.8969230651855469,\n",
              "  0.8984615206718445,\n",
              "  0.9030769467353821,\n",
              "  0.9015384912490845,\n",
              "  0.8999999761581421,\n",
              "  0.8999999761581421,\n",
              "  0.9015384912490845,\n",
              "  0.8984615206718445,\n",
              "  0.9030769467353821,\n",
              "  0.9030769467353821,\n",
              "  0.9061538577079773,\n",
              "  0.9046154022216797,\n",
              "  0.9030769467353821,\n",
              "  0.9061538577079773,\n",
              "  0.9092307686805725,\n",
              "  0.9092307686805725,\n",
              "  0.9076923131942749,\n",
              "  0.9107692241668701,\n",
              "  0.9092307686805725,\n",
              "  0.9138461351394653,\n",
              "  0.9092307686805725,\n",
              "  0.9107692241668701,\n",
              "  0.9138461351394653,\n",
              "  0.9123076796531677,\n",
              "  0.9169231057167053,\n",
              "  0.9153845906257629,\n",
              "  0.9092307686805725,\n",
              "  0.9153845906257629,\n",
              "  0.9153845906257629,\n",
              "  0.9123076796531677,\n",
              "  0.9123076796531677,\n",
              "  0.9123076796531677],\n",
              " 'val_loss': [4.702835559844971,\n",
              "  4.441072940826416,\n",
              "  4.156005382537842,\n",
              "  3.8446528911590576,\n",
              "  3.549811840057373,\n",
              "  3.2759180068969727,\n",
              "  3.0332326889038086,\n",
              "  2.8130905628204346,\n",
              "  2.6233885288238525,\n",
              "  2.450467348098755,\n",
              "  2.297884225845337,\n",
              "  2.154104709625244,\n",
              "  2.032536029815674,\n",
              "  1.9109810590744019,\n",
              "  1.8115711212158203,\n",
              "  1.7221726179122925,\n",
              "  1.648691177368164,\n",
              "  1.5624537467956543,\n",
              "  1.4935020208358765,\n",
              "  1.4259308576583862,\n",
              "  1.3607378005981445,\n",
              "  1.3018051385879517,\n",
              "  1.247367024421692,\n",
              "  1.2026822566986084,\n",
              "  1.1568065881729126,\n",
              "  1.10646653175354,\n",
              "  1.076908826828003,\n",
              "  1.0381534099578857,\n",
              "  1.0043249130249023,\n",
              "  0.9680055379867554,\n",
              "  0.9363948702812195,\n",
              "  0.909938395023346,\n",
              "  0.8792405128479004,\n",
              "  0.8567116260528564,\n",
              "  0.8315455317497253,\n",
              "  0.8077676892280579,\n",
              "  0.7869164347648621,\n",
              "  0.7683224081993103,\n",
              "  0.7504951357841492,\n",
              "  0.7297727465629578,\n",
              "  0.716063380241394,\n",
              "  0.699563205242157,\n",
              "  0.676359236240387,\n",
              "  0.6602711081504822,\n",
              "  0.6489760875701904,\n",
              "  0.6385257244110107,\n",
              "  0.6277087926864624,\n",
              "  0.6127558946609497,\n",
              "  0.6007599830627441,\n",
              "  0.590078592300415,\n",
              "  0.5777892470359802,\n",
              "  0.5686178207397461,\n",
              "  0.5561955571174622,\n",
              "  0.5465511083602905,\n",
              "  0.5358643531799316,\n",
              "  0.5257189273834229,\n",
              "  0.5188065767288208,\n",
              "  0.511568546295166,\n",
              "  0.502596914768219,\n",
              "  0.49412697553634644,\n",
              "  0.48711124062538147,\n",
              "  0.48517751693725586,\n",
              "  0.47666507959365845,\n",
              "  0.4719504117965698,\n",
              "  0.46346089243888855,\n",
              "  0.46065524220466614,\n",
              "  0.4575156271457672,\n",
              "  0.4519234895706177,\n",
              "  0.4446115791797638,\n",
              "  0.43725502490997314,\n",
              "  0.43576905131340027,\n",
              "  0.429523229598999,\n",
              "  0.42563316226005554,\n",
              "  0.42073214054107666,\n",
              "  0.4193741977214813,\n",
              "  0.41997385025024414,\n",
              "  0.41440537571907043,\n",
              "  0.41141414642333984,\n",
              "  0.4110940396785736,\n",
              "  0.4089677929878235,\n",
              "  0.40333834290504456,\n",
              "  0.4001263380050659,\n",
              "  0.3955087661743164,\n",
              "  0.39618954062461853,\n",
              "  0.3896252512931824,\n",
              "  0.38744303584098816,\n",
              "  0.3878244161605835,\n",
              "  0.3844029903411865,\n",
              "  0.38296857476234436,\n",
              "  0.3820536732673645,\n",
              "  0.38022515177726746,\n",
              "  0.37716418504714966,\n",
              "  0.3754279315471649,\n",
              "  0.3740362226963043,\n",
              "  0.37237927317619324,\n",
              "  0.3718678653240204,\n",
              "  0.3710743188858032,\n",
              "  0.3652723431587219,\n",
              "  0.36167216300964355,\n",
              "  0.36179667711257935]}"
            ]
          },
          "metadata": {},
          "execution_count": 25
        }
      ]
    },
    {
      "cell_type": "code",
      "source": [
        "model.evaluate(test_generator)"
      ],
      "metadata": {
        "id": "p0k5lfU5Nlgn",
        "colab": {
          "base_uri": "https://localhost:8080/"
        },
        "outputId": "12d36506-4125-4dbc-e96a-11fca232409f"
      },
      "execution_count": null,
      "outputs": [
        {
          "output_type": "stream",
          "name": "stdout",
          "text": [
            "\u001b[1m21/21\u001b[0m \u001b[32m━━━━━━━━━━━━━━━━━━━━\u001b[0m\u001b[37m\u001b[0m \u001b[1m1s\u001b[0m 24ms/step - accuracy: 0.9139 - loss: 0.3593\n"
          ]
        },
        {
          "output_type": "execute_result",
          "data": {
            "text/plain": [
              "[0.39448651671409607, 0.9030769467353821]"
            ]
          },
          "metadata": {},
          "execution_count": 26
        }
      ]
    },
    {
      "cell_type": "code",
      "source": [
        "import matplotlib.pyplot as plt\n",
        "import numpy as np\n",
        "from sklearn.metrics import classification_report, confusion_matrix\n",
        "import seaborn as sns"
      ],
      "metadata": {
        "id": "Fr1-gjcB5XG5"
      },
      "execution_count": null,
      "outputs": []
    },
    {
      "cell_type": "code",
      "source": [
        "def plot_history(history):\n",
        "    plt.figure(figsize=(12,5))\n",
        "    plt.subplot(1,2,1)\n",
        "    plt.plot(history.history['accuracy'], label='Train Accuracy')\n",
        "    plt.plot(history.history['val_accuracy'], label='Val Accuracy')\n",
        "    plt.title(\"Model Accuracy\")\n",
        "    plt.xlabel(\"Epoch\")\n",
        "    plt.ylabel(\"Accuracy\")\n",
        "    plt.legend()\n",
        "\n",
        "    plt.subplot(1,2,2)\n",
        "    plt.plot(history.history['loss'], label='Train Loss')\n",
        "    plt.plot(history.history['val_loss'], label='Val Loss')\n",
        "    plt.title(\"Model Loss\")\n",
        "    plt.xlabel(\"Epoch\")\n",
        "    plt.ylabel(\"Loss\")\n",
        "    plt.legend()\n",
        "\n",
        "    plt.show()\n",
        "\n",
        "plot_history(history)"
      ],
      "metadata": {
        "colab": {
          "base_uri": "https://localhost:8080/",
          "height": 487
        },
        "id": "Bs_f82iEhm_7",
        "outputId": "ea4690e7-c7b7-42e3-e04e-ce177e2c3233"
      },
      "execution_count": null,
      "outputs": [
        {
          "output_type": "display_data",
          "data": {
            "text/plain": [
              "<Figure size 1200x500 with 2 Axes>"
            ],
            "image/png": "[encoded data removed]"
          },
          "metadata": {}
        }
      ]
    },
    {
      "cell_type": "code",
      "source": [
        "img_array = img_tests / 255.0"
      ],
      "metadata": {
        "id": "-CXtPYE4NvoL"
      },
      "execution_count": null,
      "outputs": []
    },
    {
      "cell_type": "code",
      "source": [
        "y_pred = model.predict(test_generator)\n",
        "y_pred_classes = np.argmax(y_pred, axis=1)\n",
        "y_true = y_test\n",
        "print(\"Classification Report:\")\n",
        "print(classification_report(y_true, y_pred_classes))\n"
      ],
      "metadata": {
        "colab": {
          "base_uri": "https://localhost:8080/"
        },
        "id": "sHGxs-Qw5rDN",
        "outputId": "36299ee8-fd04-4d17-bb40-8ecdad1665e3"
      },
      "execution_count": null,
      "outputs": [
        {
          "output_type": "stream",
          "name": "stdout",
          "text": [
            "\u001b[1m21/21\u001b[0m \u001b[32m━━━━━━━━━━━━━━━━━━━━\u001b[0m\u001b[37m\u001b[0m \u001b[1m26s\u001b[0m 677ms/step\n",
            "Classification Report:\n",
            "              precision    recall  f1-score   support\n",
            "\n",
            "           0       0.92      1.00      0.96        12\n",
            "           1       1.00      1.00      1.00        10\n",
            "           2       0.86      1.00      0.92         6\n",
            "           3       1.00      1.00      1.00         7\n",
            "           4       0.90      1.00      0.95         9\n",
            "           5       1.00      1.00      1.00        14\n",
            "           6       1.00      1.00      1.00         8\n",
            "           7       0.86      0.86      0.86         7\n",
            "           8       0.75      1.00      0.86         9\n",
            "           9       0.80      0.80      0.80         5\n",
            "          10       1.00      1.00      1.00         4\n",
            "          11       1.00      1.00      1.00         8\n",
            "          12       1.00      0.89      0.94         9\n",
            "          13       0.70      1.00      0.82         7\n",
            "          14       1.00      1.00      1.00         2\n",
            "          15       1.00      0.88      0.93         8\n",
            "          16       1.00      1.00      1.00         9\n",
            "          17       1.00      0.80      0.89        10\n",
            "          18       1.00      0.90      0.95        10\n",
            "          19       0.56      0.83      0.67         6\n",
            "          20       1.00      0.88      0.93         8\n",
            "          21       1.00      1.00      1.00         9\n",
            "          22       0.58      0.64      0.61        11\n",
            "          23       1.00      0.90      0.95        10\n",
            "          24       1.00      0.89      0.94         9\n",
            "          25       0.91      1.00      0.95        10\n",
            "          26       0.50      0.50      0.50         8\n",
            "          27       0.86      0.46      0.60        13\n",
            "          28       1.00      0.83      0.91         6\n",
            "          29       1.00      1.00      1.00         6\n",
            "          30       0.83      1.00      0.91         5\n",
            "          31       1.00      0.88      0.93         8\n",
            "          32       0.92      1.00      0.96        12\n",
            "          33       0.86      0.92      0.89        13\n",
            "          34       0.82      0.90      0.86        10\n",
            "          35       0.88      0.88      0.88         8\n",
            "          36       1.00      1.00      1.00         8\n",
            "          37       1.00      1.00      1.00         7\n",
            "          38       0.60      0.67      0.63         9\n",
            "          39       0.88      1.00      0.93         7\n",
            "          40       0.86      1.00      0.92         6\n",
            "          41       1.00      0.78      0.88         9\n",
            "          42       1.00      0.71      0.83         7\n",
            "          43       1.00      0.78      0.88         9\n",
            "          44       1.00      0.91      0.95        11\n",
            "          45       1.00      0.94      0.97        16\n",
            "          46       0.91      1.00      0.95        10\n",
            "          47       1.00      1.00      1.00        11\n",
            "          48       0.86      0.86      0.86         7\n",
            "          49       0.78      0.88      0.82         8\n",
            "          50       1.00      1.00      1.00        10\n",
            "          51       1.00      1.00      1.00         9\n",
            "          52       0.71      0.71      0.71         7\n",
            "          53       0.82      1.00      0.90         9\n",
            "          54       0.90      0.90      0.90        10\n",
            "          55       0.90      1.00      0.95         9\n",
            "          56       0.73      0.67      0.70        12\n",
            "          57       0.56      0.56      0.56         9\n",
            "          58       0.89      0.89      0.89         9\n",
            "          59       0.83      1.00      0.91         5\n",
            "          60       1.00      0.89      0.94         9\n",
            "          61       1.00      1.00      1.00         9\n",
            "          62       1.00      1.00      1.00        14\n",
            "          63       0.92      0.92      0.92        12\n",
            "          64       1.00      0.83      0.91        12\n",
            "          65       1.00      1.00      1.00         8\n",
            "          66       0.88      0.88      0.88         8\n",
            "          67       1.00      1.00      1.00         7\n",
            "          68       0.89      1.00      0.94         8\n",
            "          69       1.00      0.71      0.83         7\n",
            "          70       0.90      1.00      0.95         9\n",
            "          71       0.88      1.00      0.93         7\n",
            "          72       1.00      1.00      1.00         9\n",
            "          73       1.00      1.00      1.00         8\n",
            "          74       1.00      1.00      1.00         3\n",
            "\n",
            "    accuracy                           0.90       650\n",
            "   macro avg       0.91      0.91      0.90       650\n",
            "weighted avg       0.91      0.90      0.90       650\n",
            "\n"
          ]
        }
      ]
    },
    {
      "cell_type": "code",
      "source": [],
      "metadata": {
        "id": "I89V_DQbh7vi"
      },
      "execution_count": null,
      "outputs": []
    }
  ]
}